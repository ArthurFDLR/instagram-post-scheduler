{
 "cells": [
  {
   "cell_type": "code",
   "execution_count": 15,
   "metadata": {},
   "outputs": [],
   "source": [
    "import pandas as pd\n",
    "from pathlib import Path"
   ]
  },
  {
   "cell_type": "code",
   "execution_count": 11,
   "metadata": {},
   "outputs": [
    {
     "data": {
      "text/html": [
       "<div>\n",
       "<style scoped>\n",
       "    .dataframe tbody tr th:only-of-type {\n",
       "        vertical-align: middle;\n",
       "    }\n",
       "\n",
       "    .dataframe tbody tr th {\n",
       "        vertical-align: top;\n",
       "    }\n",
       "\n",
       "    .dataframe thead th {\n",
       "        text-align: right;\n",
       "    }\n",
       "</style>\n",
       "<table border=\"1\" class=\"dataframe\">\n",
       "  <thead>\n",
       "    <tr style=\"text-align: right;\">\n",
       "      <th></th>\n",
       "      <th>photo_url</th>\n",
       "      <th>description</th>\n",
       "      <th>status</th>\n",
       "    </tr>\n",
       "  </thead>\n",
       "  <tbody>\n",
       "    <tr>\n",
       "      <th>0</th>\n",
       "      <td>url0</td>\n",
       "      <td>desc0</td>\n",
       "      <td>True</td>\n",
       "    </tr>\n",
       "    <tr>\n",
       "      <th>1</th>\n",
       "      <td>url1</td>\n",
       "      <td>desc1</td>\n",
       "      <td>True</td>\n",
       "    </tr>\n",
       "    <tr>\n",
       "      <th>2</th>\n",
       "      <td>url2</td>\n",
       "      <td>desc2</td>\n",
       "      <td>True</td>\n",
       "    </tr>\n",
       "    <tr>\n",
       "      <th>3</th>\n",
       "      <td>url3</td>\n",
       "      <td>desc3</td>\n",
       "      <td>False</td>\n",
       "    </tr>\n",
       "    <tr>\n",
       "      <th>4</th>\n",
       "      <td>url4</td>\n",
       "      <td>desc4</td>\n",
       "      <td>False</td>\n",
       "    </tr>\n",
       "    <tr>\n",
       "      <th>5</th>\n",
       "      <td>url5</td>\n",
       "      <td>desc5</td>\n",
       "      <td>False</td>\n",
       "    </tr>\n",
       "    <tr>\n",
       "      <th>6</th>\n",
       "      <td>url6</td>\n",
       "      <td>desc6</td>\n",
       "      <td>False</td>\n",
       "    </tr>\n",
       "    <tr>\n",
       "      <th>7</th>\n",
       "      <td>url7</td>\n",
       "      <td>desc7</td>\n",
       "      <td>False</td>\n",
       "    </tr>\n",
       "    <tr>\n",
       "      <th>8</th>\n",
       "      <td>url8</td>\n",
       "      <td>desc8</td>\n",
       "      <td>False</td>\n",
       "    </tr>\n",
       "    <tr>\n",
       "      <th>9</th>\n",
       "      <td>url9</td>\n",
       "      <td>desc9</td>\n",
       "      <td>False</td>\n",
       "    </tr>\n",
       "  </tbody>\n",
       "</table>\n",
       "</div>"
      ],
      "text/plain": [
       "  photo_url description  status\n",
       "0      url0       desc0    True\n",
       "1      url1       desc1    True\n",
       "2      url2       desc2    True\n",
       "3      url3       desc3   False\n",
       "4      url4       desc4   False\n",
       "5      url5       desc5   False\n",
       "6      url6       desc6   False\n",
       "7      url7       desc7   False\n",
       "8      url8       desc8   False\n",
       "9      url9       desc9   False"
      ]
     },
     "execution_count": 11,
     "metadata": {},
     "output_type": "execute_result"
    }
   ],
   "source": [
    "# queue_path = \"./publication_queue.csv\"\n",
    "\n",
    "# pd.DataFrame({\n",
    "#     \"photo_url\": [f\"url{i}\" for i in range(10)],\n",
    "#     \"description\": [f\"desc{i}\" for i in range(10)],\n",
    "#     \"status\": [True for i in range(3)] + [False for i in range(7)]\n",
    "# }).to_csv(queue_path, index=False)\n",
    "\n",
    "# queue_df = pd.read_csv(queue_path)\n",
    "# queue_df"
   ]
  },
  {
   "cell_type": "code",
   "execution_count": 13,
   "metadata": {},
   "outputs": [
    {
     "data": {
      "text/plain": [
       "photo_url       url3\n",
       "description    desc3\n",
       "status         False\n",
       "Name: 3, dtype: object"
      ]
     },
     "execution_count": 13,
     "metadata": {},
     "output_type": "execute_result"
    }
   ],
   "source": [
    "queue_df[queue_df.status == False].iloc[0]"
   ]
  },
  {
   "cell_type": "code",
   "execution_count": 79,
   "metadata": {},
   "outputs": [],
   "source": [
    "class QueueCSV():\n",
    "    def __init__(self, csv_queue_path: Path) -> None:\n",
    "        self.csv_queue_path = csv_queue_path\n",
    "        self.queue_df = pd.read_csv(csv_queue_path)\n",
    "\n",
    "    def peek(self):\n",
    "        if self._is_empty():\n",
    "            return None\n",
    "        top_row = self.queue_df[self.queue_df.status == False].iloc[0]\n",
    "        return dict(photo_url=top_row.photo_url, description=top_row.description)\n",
    "    \n",
    "    def pop(self):\n",
    "        if self._is_empty():\n",
    "            return None\n",
    "        top_row_id = self.queue_df[self.queue_df.status == False].iloc[0].name\n",
    "        top_row = self.queue_df.iloc[top_row_id]\n",
    "        self.queue_df.at[top_row_id, 'status'] = True\n",
    "        self.queue_df.to_csv(self.csv_queue_path, index=False)\n",
    "        return dict(photo_url=top_row.photo_url, description=top_row.description)\n",
    "\n",
    "    def _is_empty(self):\n",
    "        return self.queue_df.status.all()\n",
    "\n",
    "    def __len__(self):\n",
    "        return int((~self.queue_df.status).sum())\n",
    "\n",
    "queue = QueueCSV(Path(\".\") / \"publication_queue.csv\")"
   ]
  },
  {
   "cell_type": "code",
   "execution_count": 83,
   "metadata": {},
   "outputs": [
    {
     "name": "stdout",
     "output_type": "stream",
     "text": [
      "{'photo_url': 'url9', 'description': 'desc9'}\n"
     ]
    }
   ],
   "source": [
    "print(queue.peek())"
   ]
  },
  {
   "cell_type": "code",
   "execution_count": 82,
   "metadata": {},
   "outputs": [
    {
     "name": "stdout",
     "output_type": "stream",
     "text": [
      "2\n",
      "{'photo_url': 'url8', 'description': 'desc8'}\n",
      "1\n"
     ]
    }
   ],
   "source": [
    "print(len(queue))\n",
    "print(queue.pop())\n",
    "print(len(queue))"
   ]
  }
 ],
 "metadata": {
  "kernelspec": {
   "display_name": "Python 3.8.10 64-bit",
   "language": "python",
   "name": "python3"
  },
  "language_info": {
   "codemirror_mode": {
    "name": "ipython",
    "version": 3
   },
   "file_extension": ".py",
   "mimetype": "text/x-python",
   "name": "python",
   "nbconvert_exporter": "python",
   "pygments_lexer": "ipython3",
   "version": "3.8.10"
  },
  "orig_nbformat": 4,
  "vscode": {
   "interpreter": {
    "hash": "916dbcbb3f70747c44a77c7bcd40155683ae19c65e1c03b4aa3499c5328201f1"
   }
  }
 },
 "nbformat": 4,
 "nbformat_minor": 2
}
