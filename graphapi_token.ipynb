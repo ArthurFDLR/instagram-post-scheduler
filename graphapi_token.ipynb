{
 "cells": [
  {
   "cell_type": "code",
   "execution_count": null,
   "metadata": {},
   "outputs": [],
   "source": [
    "# Import Libraries\n",
    "import requests\n",
    "import json\n",
    "import datetime\n",
    "import pandas as pd\n",
    "\n",
    "# Define Parameters Dictionary\n",
    "params = dict()\n",
    "params['access_token'] = '...'\n",
    "params['client_id'] = '...'\n",
    "params['client_secret'] = '...'\n",
    "params['graph_domain'] = 'https://graph.facebook.com'\n",
    "params['graph_version'] = 'v15.0'\n",
    "params['endpoint_base'] = params['graph_domain'] + '/' + params['graph_version'] + '/'"
   ]
  },
  {
   "cell_type": "code",
   "execution_count": null,
   "metadata": {},
   "outputs": [],
   "source": [
    "# Define Endpoint Parameters\n",
    "endpointParams = dict()\n",
    "endpointParams['input_token'] = params['access_token']\n",
    "endpointParams['access_token'] = params['access_token']\n",
    "\n",
    "# Define URL\n",
    "url = params['graph_domain'] + '/debug_token'\n",
    "\n",
    "# Requests Data\n",
    "data = requests.get(url, endpointParams)\n",
    "access_token_data = json.loads(data.content)\n",
    "print(json.dumps(access_token_data, indent=4))"
   ]
  },
  {
   "cell_type": "code",
   "execution_count": null,
   "metadata": {},
   "outputs": [],
   "source": [
    "print(\"Token expires at \", datetime.datetime.fromtimestamp(access_token_data['data']['expires_at']))\n",
    "print(\"Data access expires at \", datetime.datetime.fromtimestamp(access_token_data['data']['data_access_expires_at']))"
   ]
  },
  {
   "cell_type": "code",
   "execution_count": null,
   "metadata": {},
   "outputs": [],
   "source": [
    "# Define URL\n",
    "url = params['endpoint_base'] + 'oauth/access_token'\n",
    "\n",
    "# Define Endpoint Parameters\n",
    "endpointParams = dict() \n",
    "endpointParams['grant_type'] = 'fb_exchange_token'\n",
    "endpointParams['client_id'] = params['client_id']\n",
    "endpointParams['client_secret'] = params['client_secret']\n",
    "endpointParams['fb_exchange_token'] = params['access_token']\n",
    "\n",
    "# Requests Data\n",
    "data = requests.get(url, endpointParams )\n",
    "long_lived_token = json.loads(data.content)\n",
    "long_lived_token"
   ]
  },
  {
   "cell_type": "code",
   "execution_count": null,
   "metadata": {},
   "outputs": [],
   "source": [
    "print(\"Token expires in \", datetime.datetime.fromtimestamp(long_lived_token['expires_in']) - datetime.datetime.fromtimestamp(0))"
   ]
  }
 ],
 "metadata": {
  "kernelspec": {
   "display_name": "Python 3.8.10 64-bit",
   "language": "python",
   "name": "python3"
  },
  "language_info": {
   "codemirror_mode": {
    "name": "ipython",
    "version": 3
   },
   "file_extension": ".py",
   "mimetype": "text/x-python",
   "name": "python",
   "nbconvert_exporter": "python",
   "pygments_lexer": "ipython3",
   "version": "3.8.10"
  },
  "orig_nbformat": 4,
  "vscode": {
   "interpreter": {
    "hash": "916dbcbb3f70747c44a77c7bcd40155683ae19c65e1c03b4aa3499c5328201f1"
   }
  }
 },
 "nbformat": 4,
 "nbformat_minor": 2
}
